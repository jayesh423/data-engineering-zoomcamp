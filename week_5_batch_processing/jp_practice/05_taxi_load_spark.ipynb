{
 "cells": [
  {
   "cell_type": "code",
   "execution_count": 1,
   "id": "d92268f5",
   "metadata": {},
   "outputs": [],
   "source": [
    "import pyspark\n",
    "from pyspark.sql import SparkSession\n",
    "import pandas as pd\n",
    "from pyspark.sql import types\n"
   ]
  },
  {
   "cell_type": "code",
   "execution_count": 2,
   "id": "2d0f315d",
   "metadata": {},
   "outputs": [
    {
     "name": "stderr",
     "output_type": "stream",
     "text": [
      "WARNING: An illegal reflective access operation has occurred\n",
      "WARNING: Illegal reflective access by org.apache.spark.unsafe.Platform (file:/home/jayesh/spark/spark-3.0.3-bin-hadoop3.2/jars/spark-unsafe_2.12-3.0.3.jar) to constructor java.nio.DirectByteBuffer(long,int)\n",
      "WARNING: Please consider reporting this to the maintainers of org.apache.spark.unsafe.Platform\n",
      "WARNING: Use --illegal-access=warn to enable warnings of further illegal reflective access operations\n",
      "WARNING: All illegal access operations will be denied in a future release\n",
      "23/02/21 21:40:48 WARN NativeCodeLoader: Unable to load native-hadoop library for your platform... using builtin-java classes where applicable\n",
      "Using Spark's default log4j profile: org/apache/spark/log4j-defaults.properties\n",
      "Setting default log level to \"WARN\".\n",
      "To adjust logging level use sc.setLogLevel(newLevel). For SparkR, use setLogLevel(newLevel).\n"
     ]
    }
   ],
   "source": [
    "spark = SparkSession.builder \\\n",
    "    .master(\"local[*]\") \\\n",
    "    .appName('test') \\\n",
    "    .getOrCreate()"
   ]
  },
  {
   "cell_type": "code",
   "execution_count": 3,
   "id": "b4bf3e0e",
   "metadata": {},
   "outputs": [],
   "source": [
    "def load_data(category, year):\n",
    "\n",
    "    if category == \"green\":\n",
    "        schema = types.StructType([\n",
    "            types.StructField(\"VendorID\", types.IntegerType(), True),\n",
    "            types.StructField(\"lpep_pickup_datetime\", types.TimestampType(), True),\n",
    "            types.StructField(\"lpep_dropoff_datetime\", types.TimestampType(), True),\n",
    "            types.StructField(\"store_and_fwd_flag\", types.StringType(), True),\n",
    "            types.StructField(\"RatecodeID\", types.IntegerType(), True),\n",
    "            types.StructField(\"PULocationID\", types.IntegerType(), True),\n",
    "            types.StructField(\"DOLocationID\", types.IntegerType(), True),\n",
    "            types.StructField(\"passenger_count\", types.IntegerType(), True),\n",
    "            types.StructField(\"trip_distance\", types.DoubleType(), True),\n",
    "            types.StructField(\"fare_amount\", types.DoubleType(), True),\n",
    "            types.StructField(\"extra\", types.DoubleType(), True),\n",
    "            types.StructField(\"mta_tax\", types.DoubleType(), True),\n",
    "            types.StructField(\"tip_amount\", types.DoubleType(), True),\n",
    "            types.StructField(\"tolls_amount\", types.DoubleType(), True),\n",
    "            types.StructField(\"ehail_fee\", types.DoubleType(), True),\n",
    "            types.StructField(\"improvement_surcharge\", types.DoubleType(), True),\n",
    "            types.StructField(\"total_amount\", types.DoubleType(), True),\n",
    "            types.StructField(\"payment_type\", types.IntegerType(), True),\n",
    "            types.StructField(\"trip_type\", types.IntegerType(), True),\n",
    "            types.StructField(\"congestion_surcharge\", types.DoubleType(), True)\n",
    "        ])\n",
    "    elif category == \"yellow\" :\n",
    "        schema = types.StructType([\n",
    "            types.StructField(\"VendorID\", types.IntegerType(), True),\n",
    "            types.StructField(\"tpep_pickup_datetime\", types.TimestampType(), True),\n",
    "            types.StructField(\"tpep_dropoff_datetime\", types.TimestampType(), True),\n",
    "            types.StructField(\"passenger_count\", types.IntegerType(), True),\n",
    "            types.StructField(\"trip_distance\", types.DoubleType(), True),\n",
    "            types.StructField(\"RatecodeID\", types.IntegerType(), True),\n",
    "            types.StructField(\"store_and_fwd_flag\", types.StringType(), True),\n",
    "            types.StructField(\"PULocationID\", types.IntegerType(), True),\n",
    "            types.StructField(\"DOLocationID\", types.IntegerType(), True),\n",
    "            types.StructField(\"payment_type\", types.IntegerType(), True),\n",
    "            types.StructField(\"fare_amount\", types.DoubleType(), True),\n",
    "            types.StructField(\"extra\", types.DoubleType(), True),\n",
    "            types.StructField(\"mta_tax\", types.DoubleType(), True),\n",
    "            types.StructField(\"tip_amount\", types.DoubleType(), True),\n",
    "            types.StructField(\"tolls_amount\", types.DoubleType(), True),\n",
    "            types.StructField(\"improvement_surcharge\", types.DoubleType(), True),\n",
    "            types.StructField(\"total_amount\", types.DoubleType(), True),\n",
    "            types.StructField(\"congestion_surcharge\", types.DoubleType(), True)\n",
    "        ])\n",
    "\n",
    "\n",
    "    for month in range(1, 13):\n",
    "        print(f'processing data for {schema}: {year}/{month}')\n",
    "\n",
    "        if month > 7 and year == 2021:\n",
    "            break\n",
    "        else:    \n",
    "            input_path = f'data/raw/{category}/{year}/{month:02d}/'\n",
    "            output_path = f'data/pq/{category}/{year}/{month:02d}/'\n",
    "\n",
    "            df = spark.read \\\n",
    "                .option(\"header\", \"true\") \\\n",
    "                .schema(schema) \\\n",
    "                .csv(input_path) \\\n",
    "\n",
    "            df \\\n",
    "                .repartition(4) \\\n",
    "                .write.parquet(output_path)"
   ]
  },
  {
   "cell_type": "code",
   "execution_count": 5,
   "id": "d06bbaff",
   "metadata": {},
   "outputs": [
    {
     "name": "stdout",
     "output_type": "stream",
     "text": [
      "processing data for StructType(List(StructField(VendorID,IntegerType,true),StructField(tpep_pickup_datetime,TimestampType,true),StructField(tpep_dropoff_datetime,TimestampType,true),StructField(passenger_count,IntegerType,true),StructField(trip_distance,DoubleType,true),StructField(RatecodeID,IntegerType,true),StructField(store_and_fwd_flag,StringType,true),StructField(PULocationID,IntegerType,true),StructField(DOLocationID,IntegerType,true),StructField(payment_type,IntegerType,true),StructField(fare_amount,DoubleType,true),StructField(extra,DoubleType,true),StructField(mta_tax,DoubleType,true),StructField(tip_amount,DoubleType,true),StructField(tolls_amount,DoubleType,true),StructField(improvement_surcharge,DoubleType,true),StructField(total_amount,DoubleType,true),StructField(congestion_surcharge,DoubleType,true))): 2020/7\n"
     ]
    },
    {
     "name": "stderr",
     "output_type": "stream",
     "text": [
      "                                                                                \r"
     ]
    },
    {
     "name": "stdout",
     "output_type": "stream",
     "text": [
      "processing data for StructType(List(StructField(VendorID,IntegerType,true),StructField(tpep_pickup_datetime,TimestampType,true),StructField(tpep_dropoff_datetime,TimestampType,true),StructField(passenger_count,IntegerType,true),StructField(trip_distance,DoubleType,true),StructField(RatecodeID,IntegerType,true),StructField(store_and_fwd_flag,StringType,true),StructField(PULocationID,IntegerType,true),StructField(DOLocationID,IntegerType,true),StructField(payment_type,IntegerType,true),StructField(fare_amount,DoubleType,true),StructField(extra,DoubleType,true),StructField(mta_tax,DoubleType,true),StructField(tip_amount,DoubleType,true),StructField(tolls_amount,DoubleType,true),StructField(improvement_surcharge,DoubleType,true),StructField(total_amount,DoubleType,true),StructField(congestion_surcharge,DoubleType,true))): 2020/8\n"
     ]
    },
    {
     "name": "stderr",
     "output_type": "stream",
     "text": [
      "                                                                                \r"
     ]
    },
    {
     "name": "stdout",
     "output_type": "stream",
     "text": [
      "processing data for StructType(List(StructField(VendorID,IntegerType,true),StructField(tpep_pickup_datetime,TimestampType,true),StructField(tpep_dropoff_datetime,TimestampType,true),StructField(passenger_count,IntegerType,true),StructField(trip_distance,DoubleType,true),StructField(RatecodeID,IntegerType,true),StructField(store_and_fwd_flag,StringType,true),StructField(PULocationID,IntegerType,true),StructField(DOLocationID,IntegerType,true),StructField(payment_type,IntegerType,true),StructField(fare_amount,DoubleType,true),StructField(extra,DoubleType,true),StructField(mta_tax,DoubleType,true),StructField(tip_amount,DoubleType,true),StructField(tolls_amount,DoubleType,true),StructField(improvement_surcharge,DoubleType,true),StructField(total_amount,DoubleType,true),StructField(congestion_surcharge,DoubleType,true))): 2020/9\n"
     ]
    },
    {
     "name": "stderr",
     "output_type": "stream",
     "text": [
      "                                                                                \r"
     ]
    },
    {
     "name": "stdout",
     "output_type": "stream",
     "text": [
      "processing data for StructType(List(StructField(VendorID,IntegerType,true),StructField(tpep_pickup_datetime,TimestampType,true),StructField(tpep_dropoff_datetime,TimestampType,true),StructField(passenger_count,IntegerType,true),StructField(trip_distance,DoubleType,true),StructField(RatecodeID,IntegerType,true),StructField(store_and_fwd_flag,StringType,true),StructField(PULocationID,IntegerType,true),StructField(DOLocationID,IntegerType,true),StructField(payment_type,IntegerType,true),StructField(fare_amount,DoubleType,true),StructField(extra,DoubleType,true),StructField(mta_tax,DoubleType,true),StructField(tip_amount,DoubleType,true),StructField(tolls_amount,DoubleType,true),StructField(improvement_surcharge,DoubleType,true),StructField(total_amount,DoubleType,true),StructField(congestion_surcharge,DoubleType,true))): 2020/10\n"
     ]
    },
    {
     "name": "stderr",
     "output_type": "stream",
     "text": [
      "                                                                                \r"
     ]
    },
    {
     "name": "stdout",
     "output_type": "stream",
     "text": [
      "processing data for StructType(List(StructField(VendorID,IntegerType,true),StructField(tpep_pickup_datetime,TimestampType,true),StructField(tpep_dropoff_datetime,TimestampType,true),StructField(passenger_count,IntegerType,true),StructField(trip_distance,DoubleType,true),StructField(RatecodeID,IntegerType,true),StructField(store_and_fwd_flag,StringType,true),StructField(PULocationID,IntegerType,true),StructField(DOLocationID,IntegerType,true),StructField(payment_type,IntegerType,true),StructField(fare_amount,DoubleType,true),StructField(extra,DoubleType,true),StructField(mta_tax,DoubleType,true),StructField(tip_amount,DoubleType,true),StructField(tolls_amount,DoubleType,true),StructField(improvement_surcharge,DoubleType,true),StructField(total_amount,DoubleType,true),StructField(congestion_surcharge,DoubleType,true))): 2020/11\n"
     ]
    },
    {
     "name": "stderr",
     "output_type": "stream",
     "text": [
      "                                                                                \r"
     ]
    },
    {
     "name": "stdout",
     "output_type": "stream",
     "text": [
      "processing data for StructType(List(StructField(VendorID,IntegerType,true),StructField(tpep_pickup_datetime,TimestampType,true),StructField(tpep_dropoff_datetime,TimestampType,true),StructField(passenger_count,IntegerType,true),StructField(trip_distance,DoubleType,true),StructField(RatecodeID,IntegerType,true),StructField(store_and_fwd_flag,StringType,true),StructField(PULocationID,IntegerType,true),StructField(DOLocationID,IntegerType,true),StructField(payment_type,IntegerType,true),StructField(fare_amount,DoubleType,true),StructField(extra,DoubleType,true),StructField(mta_tax,DoubleType,true),StructField(tip_amount,DoubleType,true),StructField(tolls_amount,DoubleType,true),StructField(improvement_surcharge,DoubleType,true),StructField(total_amount,DoubleType,true),StructField(congestion_surcharge,DoubleType,true))): 2020/12\n"
     ]
    },
    {
     "name": "stderr",
     "output_type": "stream",
     "text": [
      "                                                                                \r"
     ]
    }
   ],
   "source": [
    "# load_data(\"green\", 2020)\n",
    "# load_data(\"green\", 2021)\n",
    "load_data(\"yellow\", 2020)\n",
    "# load_data(\"yellow\", 2021)"
   ]
  }
 ],
 "metadata": {
  "kernelspec": {
   "display_name": "Python 3 (ipykernel)",
   "language": "python",
   "name": "python3"
  },
  "language_info": {
   "codemirror_mode": {
    "name": "ipython",
    "version": 3
   },
   "file_extension": ".py",
   "mimetype": "text/x-python",
   "name": "python",
   "nbconvert_exporter": "python",
   "pygments_lexer": "ipython3",
   "version": "3.9.13"
  }
 },
 "nbformat": 4,
 "nbformat_minor": 5
}
